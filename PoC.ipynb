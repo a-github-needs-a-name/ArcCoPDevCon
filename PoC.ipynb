{
 "cells": [
  {
   "cell_type": "markdown",
   "metadata": {},
   "source": [
    "# Kafka --> Service --> MongoDB"
   ]
  },
  {
   "cell_type": "code",
   "execution_count": null,
   "metadata": {},
   "outputs": [],
   "source": [
    "print(\"Hello, World!\")"
   ]
  },
  {
   "cell_type": "code",
   "execution_count": null,
   "metadata": {},
   "outputs": [],
   "source": [
    "# Prerequisites\n",
    "pip install six kafka-python pymongo"
   ]
  },
  {
   "cell_type": "code",
   "execution_count": null,
   "metadata": {},
   "outputs": [],
   "source": [
    "# Import the required libraries\n",
    "from kafka import KafkaConsumer\n",
    "from pymongo import MongoClient\n",
    "import os\n",
    "\n",
    "# Kafka consumer configuration\n",
    "bootstrap_servers = os.getenv('KAFKA_BOOTSTRAPSERVERS')\n",
    "topic = 'arc_events'\n",
    "\n",
    "# MongoDB configuration\n",
    "mongo_uri = os.getenv('MONGO_URL')\n",
    "db_name = 'arc_cop_database'\n",
    "collection_name = 'event_collection'\n",
    "\n",
    "# Create Kafka consumer\n",
    "consumer = KafkaConsumer(topic, bootstrap_servers=bootstrap_servers)\n",
    "\n",
    "# Create MongoDB client\n",
    "client = MongoClient(mongo_uri)\n",
    "\n",
    "# Connect to the database\n",
    "db = client[db_name]\n",
    "\n",
    "# Get the collection\n",
    "collection = db[collection_name]\n",
    "\n",
    "# Consume messages from Kafka and write to MongoDB\n",
    "for message in consumer:\n",
    "    # Extract the message value\n",
    "    message_value = message.value.decode('utf-8')\n",
    "    \n",
    "    # Insert the message into MongoDB\n",
    "    collection.insert_one({'message': message_value})\n",
    "\n",
    "    # debup message\n",
    "    print('Message inserted into MongoDB:', message_value)"
   ]
  }
 ],
 "metadata": {
  "kernelspec": {
   "display_name": "base",
   "language": "python",
   "name": "python3"
  },
  "language_info": {
   "codemirror_mode": {
    "name": "ipython",
    "version": 3
   },
   "file_extension": ".py",
   "mimetype": "text/x-python",
   "name": "python",
   "nbconvert_exporter": "python",
   "pygments_lexer": "ipython3",
   "version": "3.11.7"
  }
 },
 "nbformat": 4,
 "nbformat_minor": 2
}
